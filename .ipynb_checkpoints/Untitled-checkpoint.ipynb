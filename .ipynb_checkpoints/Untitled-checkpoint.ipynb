{
 "cells": [
  {
   "cell_type": "markdown",
   "id": "45eb4829-1892-4191-a781-34854e435540",
   "metadata": {},
   "source": [
    "INTRODUCTION Python is a high-level interpretad programming language known for its readbility and simplicity. \n",
    "Its widely used in various fields like web devolopment data science, artifical intellgience and more.\n",
    "Variebles variables are used to store data values. In python, you dont need to delcare the type of a variable explicity. Ex of Variable assignment: x= 5- #integer y= 3.14 - #Float name = \"Alice\" #String Data types: Common data types in python include Integers(int) whole numbers e.g, 1, 42 Floating-point numbers (float): Decimal numbers, e.g, 3.14, 0.001 strings(str): Text data, e.g, \"Hello World!\" Booleans (boo1): Logical values, True or False Lists (list): ordered, mutable collections, e.g, [1, 2, 3] dictionaries (dict): key-value pairs, e.g, {\"name\": \"Alice\", \"age\":25} Tuples (tuple): Ordered, immutable collections, e.g., (1, 2, 3) Sets (set): unordered collections of unique items, e.g., {1, 2, 3} Operators: Arithmetic Operators - Addition + - Subtraction - - Multipication * - Division / - Modulus (remainder) % - Exponrntiation - Floor division // Comparison Operators - Equal to == - Not equal to: != - Greater than: > - Less than < - Greater than or equal to: >= - Less than or equal to <= Logical operators - And: and - Or: or - Not: not Control Statments If Statments Used to execute code based on a condition #Example of an if statement age =18 if age >= 18: print(You are an adult\") else: print(\"You are a minor\") Loops loops are used to repeat a block of code multiple times."
   ]
  },
  {
   "cell_type": "code",
   "execution_count": null,
   "id": "e1d3aadb-e372-4a99-ad48-156a28773336",
   "metadata": {},
   "outputs": [],
   "source": []
  }
 ],
 "metadata": {
  "kernelspec": {
   "display_name": "Python 3 (ipykernel)",
   "language": "python",
   "name": "python3"
  },
  "language_info": {
   "codemirror_mode": {
    "name": "ipython",
    "version": 3
   },
   "file_extension": ".py",
   "mimetype": "text/x-python",
   "name": "python",
   "nbconvert_exporter": "python",
   "pygments_lexer": "ipython3",
   "version": "3.12.1"
  }
 },
 "nbformat": 4,
 "nbformat_minor": 5
}
